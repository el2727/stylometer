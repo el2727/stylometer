{
 "cells": [
  {
   "cell_type": "code",
   "execution_count": 9,
   "metadata": {},
   "outputs": [
    {
     "name": "stdout",
     "output_type": "stream",
     "text": [
      "Collecting test_updated\n",
      "  Downloading test_updated-1-py3-none-any.whl (3.0 kB)\n",
      "Requirement already satisfied: spacy in c:\\users\\ekaterina\\anaconda3\\lib\\site-packages (from test_updated) (3.2.4)\n",
      "Requirement already satisfied: packaging>=20.0 in c:\\users\\ekaterina\\anaconda3\\lib\\site-packages (from spacy->test_updated) (20.4)\n",
      "Requirement already satisfied: numpy>=1.15.0 in c:\\users\\ekaterina\\anaconda3\\lib\\site-packages (from spacy->test_updated) (1.19.2)\n",
      "Requirement already satisfied: cymem<2.1.0,>=2.0.2 in c:\\users\\ekaterina\\anaconda3\\lib\\site-packages (from spacy->test_updated) (2.0.5)\n",
      "Requirement already satisfied: preshed<3.1.0,>=3.0.2 in c:\\users\\ekaterina\\anaconda3\\lib\\site-packages (from spacy->test_updated) (3.0.5)\n",
      "Requirement already satisfied: catalogue<2.1.0,>=2.0.6 in c:\\users\\ekaterina\\anaconda3\\lib\\site-packages (from spacy->test_updated) (2.0.6)\n",
      "Requirement already satisfied: srsly<3.0.0,>=2.4.1 in c:\\users\\ekaterina\\anaconda3\\lib\\site-packages (from spacy->test_updated) (2.4.1)\n",
      "Requirement already satisfied: murmurhash<1.1.0,>=0.28.0 in c:\\users\\ekaterina\\anaconda3\\lib\\site-packages (from spacy->test_updated) (1.0.5)\n",
      "Requirement already satisfied: thinc<8.1.0,>=8.0.12 in c:\\users\\ekaterina\\anaconda3\\lib\\site-packages (from spacy->test_updated) (8.0.13)\n",
      "Requirement already satisfied: langcodes<4.0.0,>=3.2.0 in c:\\users\\ekaterina\\anaconda3\\lib\\site-packages (from spacy->test_updated) (3.3.0)\n",
      "Requirement already satisfied: spacy-loggers<2.0.0,>=1.0.0 in c:\\users\\ekaterina\\anaconda3\\lib\\site-packages (from spacy->test_updated) (1.0.1)\n",
      "Requirement already satisfied: typer<0.5.0,>=0.3.0 in c:\\users\\ekaterina\\anaconda3\\lib\\site-packages (from spacy->test_updated) (0.3.2)\n",
      "Requirement already satisfied: blis<0.8.0,>=0.4.0 in c:\\users\\ekaterina\\anaconda3\\lib\\site-packages (from spacy->test_updated) (0.7.4)\n",
      "Requirement already satisfied: pydantic!=1.8,!=1.8.1,<1.9.0,>=1.7.4 in c:\\users\\ekaterina\\anaconda3\\lib\\site-packages (from spacy->test_updated) (1.7.4)\n",
      "Requirement already satisfied: tqdm<5.0.0,>=4.38.0 in c:\\users\\ekaterina\\anaconda3\\lib\\site-packages (from spacy->test_updated) (4.50.2)\n",
      "Requirement already satisfied: pathy>=0.3.5 in c:\\users\\ekaterina\\anaconda3\\lib\\site-packages (from spacy->test_updated) (0.5.2)\n",
      "Requirement already satisfied: jinja2 in c:\\users\\ekaterina\\anaconda3\\lib\\site-packages (from spacy->test_updated) (2.11.2)\n",
      "Requirement already satisfied: requests<3.0.0,>=2.13.0 in c:\\users\\ekaterina\\anaconda3\\lib\\site-packages (from spacy->test_updated) (2.25.1)\n",
      "Requirement already satisfied: spacy-legacy<3.1.0,>=3.0.8 in c:\\users\\ekaterina\\anaconda3\\lib\\site-packages (from spacy->test_updated) (3.0.8)\n",
      "Requirement already satisfied: click<8.1.0 in c:\\users\\ekaterina\\anaconda3\\lib\\site-packages (from spacy->test_updated) (7.1.2)\n",
      "Requirement already satisfied: setuptools in c:\\users\\ekaterina\\anaconda3\\lib\\site-packages (from spacy->test_updated) (50.3.1.post20201107)\n",
      "Requirement already satisfied: wasabi<1.1.0,>=0.8.1 in c:\\users\\ekaterina\\anaconda3\\lib\\site-packages (from spacy->test_updated) (0.8.2)\n",
      "Requirement already satisfied: pyparsing>=2.0.2 in c:\\users\\ekaterina\\anaconda3\\lib\\site-packages (from packaging>=20.0->spacy->test_updated) (2.4.7)\n",
      "Requirement already satisfied: six in c:\\users\\ekaterina\\anaconda3\\lib\\site-packages (from packaging>=20.0->spacy->test_updated) (1.15.0)\n",
      "Requirement already satisfied: smart-open<4.0.0,>=2.2.0 in c:\\users\\ekaterina\\anaconda3\\lib\\site-packages (from pathy>=0.3.5->spacy->test_updated) (3.0.0)\n",
      "Requirement already satisfied: certifi>=2017.4.17 in c:\\users\\ekaterina\\anaconda3\\lib\\site-packages (from requests<3.0.0,>=2.13.0->spacy->test_updated) (2020.6.20)\n",
      "Requirement already satisfied: chardet<5,>=3.0.2 in c:\\users\\ekaterina\\anaconda3\\lib\\site-packages (from requests<3.0.0,>=2.13.0->spacy->test_updated) (3.0.4)\n",
      "Requirement already satisfied: idna<3,>=2.5 in c:\\users\\ekaterina\\anaconda3\\lib\\site-packages (from requests<3.0.0,>=2.13.0->spacy->test_updated) (2.10)\n",
      "Requirement already satisfied: urllib3<1.27,>=1.21.1 in c:\\users\\ekaterina\\anaconda3\\lib\\site-packages (from requests<3.0.0,>=2.13.0->spacy->test_updated) (1.26.8)\n",
      "Requirement already satisfied: MarkupSafe>=0.23 in c:\\users\\ekaterina\\anaconda3\\lib\\site-packages (from jinja2->spacy->test_updated) (1.1.1)\n",
      "Installing collected packages: test_updated\n",
      "Successfully installed test_updated-1\n"
     ]
    }
   ],
   "source": [
    "# Install the package\n",
    "! pip install test_updated"
   ]
  },
  {
   "cell_type": "code",
   "execution_count": 1,
   "metadata": {},
   "outputs": [],
   "source": [
    "# Import the module\n",
    "from test_updated import test_updated"
   ]
  },
  {
   "cell_type": "code",
   "execution_count": 4,
   "metadata": {},
   "outputs": [],
   "source": [
    "# Writing sample\n",
    "text = open(\"Example.txt\").read()"
   ]
  },
  {
   "cell_type": "code",
   "execution_count": 5,
   "metadata": {},
   "outputs": [
    {
     "data": {
      "text/plain": [
       "\"Why do companies in the United Kingdom pay scrip (i.e., in stock) dividends? Are tax savings the sole motive for this option? If so, are all tax-loss companies offering this option? Or is this option driven by other motives, such as cash savings, signaling, and agency conflicts? In this study, I provide some insights into the motivation for scrip-dividend payment by comparing the operational performance and other characteristics of all companies that distributed scrip dividends with those of a control group of non-scrip-paying, but otherwise similar, firms.\\nScrip dividends are offered by an increasing number of companies in the United Kingdom as an option whereby shareholders are able to choose between receiving dividends in cash or the equivalent in the form of shares (scrip). Companies stress tax savings when they offer this option because, unlike cash dividends, the scrip option is not subject to a payment of the advanced corporation tax (ACT).\\nI find that there are no significant differences in the scrip and non-scrip-paying firms' tax exposures. Compared to the control sample, firms that issue scrip dividends do not report a higher proportion of irrecoverable ACT in their accounts, nor do they generate a high proportion of their earnings overseas, earnings on which the ACT cannot be claimed. My results also show that this option is not driven by cash shortages, nor is it a substitute for external finance and/or a cut in cash dividends. However, I find that firms that pay scrip dividends are, on average, large, and have high dividend yield, suggesting that the cash saved is substantial. However, these firms already have high cash-flow balances and low growth opportunities. The overall results suggest that firms in the UK do not appear to be making the optimal financial choice for their dividend policies.\\nLike stock dividends and dividend reinvestment plans in the US. scrip dividends provide both firm and shareholders with many benefits. Companies are able to retain cash without altering their payout policies or raising new funds in the capital markets; thus, companies that use this option can save on borrowing costs, underwriting fees, other issue costs, and avoid negative signals of new equity. At the same time, they provide their shareholders with the opportunity to increase their holdings without incurring any transaction costs. In addition, the UK institutional setting and relevant tax code provisions allow companies to derive tax benefits from this option. Unlike cash dividends, this option is not subject to ACT. This tax is first paid when a company declares cash dividends and is deducted from its corporation-tax liability nine months aftermm the accounting year-end if dividends are paid from domestic earnings and if taxable profit is higher than gross cash dividends. If these two conditions are not met, surplus ACT is carried in the accounts and set off against preceding or immediately following periods. For companies with no previous or foreseeable future taxable profit, ACT is written off as a loss against reserves. Thus, companies with prospective ACT loss are more likely to pay scrip, rather than cash, dividends.\\nHowever, scrip dividends are not costless. Firms incur administrative costs in Petting up and running the scheme, such as the costs of advertising the option, preparing and mailing the scrip-dividend prospectus, and printing and allocating the new shares. Moreover, scrip dividends impose costs on the firm's shareholders. This option is not offered to foreign investors. For some domestic investors, it is taxed differently from cash dividends. While the tax credit associated with cash dividends can be claimed by all investors, the tax credit on scrip dividends can only be claimed by tax-paying individual investors. Individuals who have reliefs and allowances in excess of their income, as well as corporate investors, forgo the tax credit when they opt for scrip dividends. Thus, corporate and nontaxable individual investors are likely to prefer cash dividends; individual shareholders taxed at a higher rate of income tax may opt for scrip dividends for which the firm issues additional shares. However, such additional shares could result in a dilution of control for shareholders who opt for cash dividends, and a loss in future dividend increases if scrip dividends limit the scope for such increases.\\nWhy, then, do companies issue scrip dividends? One possibility is that individual tax-paying investors request this option from their companies, which suggests that companies are subject to monitoring by atomistic shareholders while large shareholders, such as corporate investors, are passive owners.\\nI suggest a number of areas for further research that will assess the extent to which the granting of this option is driven by nonfinancial considerations.\""
      ]
     },
     "execution_count": 5,
     "metadata": {},
     "output_type": "execute_result"
    }
   ],
   "source": [
    "text"
   ]
  },
  {
   "cell_type": "code",
   "execution_count": 2,
   "metadata": {},
   "outputs": [],
   "source": [
    "# Initialize Text class object\n",
    "test = test_updated.Text(\"Example.txt\")    "
   ]
  },
  {
   "cell_type": "code",
   "execution_count": 3,
   "metadata": {},
   "outputs": [
    {
     "name": "stdout",
     "output_type": "stream",
     "text": [
      "Total number of involved features: 46\n",
      "Number of pronouns: 22\n",
      "Number of questions: 5\n",
      "Number of 'and' coordination: 19\n",
      "-----------------------------------------------\n",
      "Total number of informational features: 108\n",
      "Number of determiners: 84\n",
      "Number of past tense verbs: 21\n",
      "Number of cardinal numbers: 3\n",
      "-----------------------------------------------\n",
      "Involved-informational ratio: 0.43\n"
     ]
    }
   ],
   "source": [
    "# Print the summary statistics of involved and informational features\n",
    "test.summary()"
   ]
  },
  {
   "cell_type": "code",
   "execution_count": 20,
   "metadata": {},
   "outputs": [
    {
     "data": {
      "text/plain": [
       "['I',\n",
       " 'they',\n",
       " 'I',\n",
       " 'their',\n",
       " 'they',\n",
       " 'their',\n",
       " 'My',\n",
       " 'it',\n",
       " 'I',\n",
       " 'their',\n",
       " 'their',\n",
       " 'they',\n",
       " 'their',\n",
       " 'their',\n",
       " 'its',\n",
       " 'it',\n",
       " 'who',\n",
       " 'their',\n",
       " 'they',\n",
       " 'who',\n",
       " 'their',\n",
       " 'I',\n",
       " '?',\n",
       " '?',\n",
       " '?',\n",
       " '?',\n",
       " '?',\n",
       " 'and',\n",
       " 'and',\n",
       " 'and',\n",
       " 'and',\n",
       " 'and',\n",
       " 'and',\n",
       " 'and',\n",
       " 'and',\n",
       " 'and',\n",
       " 'and',\n",
       " 'and',\n",
       " 'and',\n",
       " 'and',\n",
       " 'and',\n",
       " 'and',\n",
       " 'and',\n",
       " 'and',\n",
       " 'and',\n",
       " 'and']"
      ]
     },
     "execution_count": 20,
     "metadata": {},
     "output_type": "execute_result"
    }
   ],
   "source": [
    "# Get involved features\n",
    "test.involved_features"
   ]
  },
  {
   "cell_type": "code",
   "execution_count": 15,
   "metadata": {},
   "outputs": [
    {
     "data": {
      "text/plain": [
       "5"
      ]
     },
     "execution_count": 15,
     "metadata": {},
     "output_type": "execute_result"
    }
   ],
   "source": [
    "# Get number of questions\n",
    "test.n_questions"
   ]
  },
  {
   "cell_type": "code",
   "execution_count": 21,
   "metadata": {},
   "outputs": [
    {
     "data": {
      "text/plain": [
       "22"
      ]
     },
     "execution_count": 21,
     "metadata": {},
     "output_type": "execute_result"
    }
   ],
   "source": [
    "# Get number of pronouns\n",
    "test.n_pronouns"
   ]
  },
  {
   "cell_type": "code",
   "execution_count": 24,
   "metadata": {},
   "outputs": [
    {
     "data": {
      "text/plain": [
       "['the',\n",
       " 'the',\n",
       " 'this',\n",
       " 'all',\n",
       " 'this',\n",
       " 'this',\n",
       " 'this',\n",
       " 'some',\n",
       " 'the',\n",
       " 'the',\n",
       " 'all',\n",
       " 'that',\n",
       " 'those',\n",
       " 'a',\n",
       " 'an',\n",
       " 'the',\n",
       " 'an',\n",
       " 'the',\n",
       " 'the',\n",
       " 'this',\n",
       " 'the',\n",
       " 'a',\n",
       " 'the',\n",
       " 'no',\n",
       " 'the',\n",
       " 'the',\n",
       " 'that',\n",
       " 'a',\n",
       " 'a',\n",
       " 'which',\n",
       " 'the',\n",
       " 'this',\n",
       " 'a',\n",
       " 'a',\n",
       " 'that',\n",
       " 'the',\n",
       " 'these',\n",
       " 'The',\n",
       " 'the',\n",
       " 'the',\n",
       " 'the',\n",
       " 'both',\n",
       " 'the',\n",
       " 'that',\n",
       " 'this',\n",
       " 'the',\n",
       " 'the',\n",
       " 'any',\n",
       " 'the',\n",
       " 'this',\n",
       " 'this',\n",
       " 'This',\n",
       " 'a',\n",
       " 'the',\n",
       " 'these',\n",
       " 'the',\n",
       " 'no',\n",
       " 'a',\n",
       " 'the',\n",
       " 'the',\n",
       " 'the',\n",
       " 'the',\n",
       " 'the',\n",
       " 'the',\n",
       " 'This',\n",
       " 'some',\n",
       " 'the',\n",
       " 'all',\n",
       " 'the',\n",
       " 'the',\n",
       " 'a',\n",
       " 'which',\n",
       " 'the',\n",
       " 'a',\n",
       " 'a',\n",
       " 'the',\n",
       " 'this',\n",
       " 'which',\n",
       " 'a',\n",
       " 'that',\n",
       " 'the',\n",
       " 'which',\n",
       " 'the',\n",
       " 'this',\n",
       " 'driven',\n",
       " 'distributed',\n",
       " 'offered',\n",
       " 'Compared',\n",
       " 'claimed',\n",
       " 'driven',\n",
       " 'saved',\n",
       " 'paid',\n",
       " 'deducted',\n",
       " 'paid',\n",
       " 'met',\n",
       " 'carried',\n",
       " 'set',\n",
       " 'written',\n",
       " 'offered',\n",
       " 'taxed',\n",
       " 'associated',\n",
       " 'claimed',\n",
       " 'claimed',\n",
       " 'taxed',\n",
       " 'driven',\n",
       " 'nine',\n",
       " 'two',\n",
       " 'One']"
      ]
     },
     "execution_count": 24,
     "metadata": {},
     "output_type": "execute_result"
    }
   ],
   "source": [
    "# Get informational features\n",
    "test.info_features"
   ]
  },
  {
   "cell_type": "code",
   "execution_count": 27,
   "metadata": {},
   "outputs": [
    {
     "data": {
      "text/plain": [
       "['driven',\n",
       " 'distributed',\n",
       " 'offered',\n",
       " 'Compared',\n",
       " 'claimed',\n",
       " 'driven',\n",
       " 'saved',\n",
       " 'paid',\n",
       " 'deducted',\n",
       " 'paid',\n",
       " 'met',\n",
       " 'carried',\n",
       " 'set',\n",
       " 'written',\n",
       " 'offered',\n",
       " 'taxed',\n",
       " 'associated',\n",
       " 'claimed',\n",
       " 'claimed',\n",
       " 'taxed',\n",
       " 'driven']"
      ]
     },
     "execution_count": 27,
     "metadata": {},
     "output_type": "execute_result"
    }
   ],
   "source": [
    "# Get verbs in past tense\n",
    "test.past_tense"
   ]
  },
  {
   "cell_type": "code",
   "execution_count": 29,
   "metadata": {},
   "outputs": [
    {
     "data": {
      "text/plain": [
       "['nine', 'two', 'One']"
      ]
     },
     "execution_count": 29,
     "metadata": {},
     "output_type": "execute_result"
    }
   ],
   "source": [
    "# Get cardinal numbers\n",
    "test.cardinal_numbers"
   ]
  },
  {
   "cell_type": "code",
   "execution_count": 34,
   "metadata": {},
   "outputs": [
    {
     "name": "stdout",
     "output_type": "stream",
     "text": [
      "and_coordination\n",
      "cardinal_numbers\n",
      "determiners\n",
      "info_features\n",
      "involved_features\n",
      "n_and_coordination\n",
      "n_cardinal_numbers\n",
      "n_determiners\n",
      "n_info_features\n",
      "n_involved_features\n",
      "n_past_tense\n",
      "n_pronouns\n",
      "n_questions\n",
      "past_tense\n",
      "pronouns\n",
      "questions\n",
      "summary\n"
     ]
    }
   ],
   "source": [
    "# Available attributes\n",
    "for attribute in dir(test):\n",
    "    if '__' not in attribute:\n",
    "        print(attribute)"
   ]
  },
  {
   "cell_type": "code",
   "execution_count": null,
   "metadata": {},
   "outputs": [],
   "source": []
  }
 ],
 "metadata": {
  "kernelspec": {
   "display_name": "Python 3",
   "language": "python",
   "name": "python3"
  },
  "language_info": {
   "codemirror_mode": {
    "name": "ipython",
    "version": 3
   },
   "file_extension": ".py",
   "mimetype": "text/x-python",
   "name": "python",
   "nbconvert_exporter": "python",
   "pygments_lexer": "ipython3",
   "version": "3.8.5"
  }
 },
 "nbformat": 4,
 "nbformat_minor": 4
}
